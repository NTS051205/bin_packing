{
 "cells": [
  {
   "cell_type": "code",
   "execution_count": 1,
   "id": "5194397d",
   "metadata": {},
   "outputs": [
    {
     "name": "stdout",
     "output_type": "stream",
     "text": [
      "\n",
      "::::::::::: small-box(8.625x5.375x1.625, max_weight:70.000) vol(75.334) item_number(0) filling_ratio(0.000)\n",
      "FITTED ITEMS:\n",
      "\n",
      "UNFITTED ITEMS:\n",
      "====>  item2(7.874x3.937x1.968, weight: 4.000) pos([0, 0, 0]) rt(1) vol(61.008)\n",
      "====>  item1(3.937x1.968x1.968, weight: 1.000) pos([Decimal('1.968'), 0, 0]) rt(2) vol(15.248)\n",
      "\n",
      "BOX TYPE DISTRIBUTION:\n",
      "\n",
      "::::::::::: large-box(12.000x12.000x5.500, max_weight:70.000) vol(792.000) item_number(2) filling_ratio(0.096)\n",
      "FITTED ITEMS:\n",
      "====>  item2(7.874x3.937x1.968, weight: 4.000) pos([0, 0, 0]) rt(1) vol(61.008)\n",
      "====>  item1(3.937x1.968x1.968, weight: 1.000) pos([Decimal('1.968'), 0, 0]) rt(2) vol(15.248)\n",
      "\n",
      "UNFITTED ITEMS:\n",
      "\n",
      "BOX TYPE DISTRIBUTION:\n",
      "item2: 1\n",
      "item1: 1\n",
      "\n",
      "Selected bin with highest filling ratio:  large-box(12.000x12.000x5.500, max_weight:70.000) vol(792.000) item_number(2) filling_ratio(0.096)\n"
     ]
    }
   ],
   "source": [
    "# Đầu tiên import packer\n",
    "%run ./packer.ipynb\n",
    "\n",
    "# Tạo một instance của Packer\n",
    "packer = Packer()\n",
    "\n",
    "# Thêm các bin (thùng/hộp) với kích thước (dài, rộng, cao, trọng lượng tối đa)\n",
    "packer.add_bin(Bin('small-box', 8.625, 5.375, 1.625, 70.0))\n",
    "packer.add_bin(Bin('large-box', 12.0, 12.0, 5.5, 70.0))\n",
    "\n",
    "# Thêm các item (vật phẩm) cần xếp với kích thước (dài, rộng, cao, trọng lượng)\n",
    "packer.add_item(Item('item1', 3.9370, 1.9685, 1.9685, 1))\n",
    "packer.add_item(Item('item2', 7.8740, 3.9370, 1.9685, 4))\n",
    "\n",
    "# Chạy thuật toán xếp hộp\n",
    "packer.pack()"
   ]
  }
 ],
 "metadata": {
  "kernelspec": {
   "display_name": "Python 3",
   "language": "python",
   "name": "python3"
  },
  "language_info": {
   "codemirror_mode": {
    "name": "ipython",
    "version": 3
   },
   "file_extension": ".py",
   "mimetype": "text/x-python",
   "name": "python",
   "nbconvert_exporter": "python",
   "pygments_lexer": "ipython3",
   "version": "3.12.2"
  }
 },
 "nbformat": 4,
 "nbformat_minor": 5
}
